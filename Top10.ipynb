{
 "cells": [
  {
   "cell_type": "markdown",
   "id": "2a0fa908",
   "metadata": {},
   "source": [
    "In a first Jupyter notebook called Top10.ipynb, \n",
    "analyze what the top 10 causes of calls to 311 are in your chosen ZIP code, \n",
    "and calculate how many total incidents of each of these 10 types there have been in the year 2020. \n",
    "Your answer should be a pandas.Series which you must call top10 (as a Python variable), \n",
    "which should be in descending order by number of incidents, \n",
    "and which contains as its labels the incident type (a string) and as associated values the total number of incidents of this type in 2020."
   ]
  },
  {
   "cell_type": "code",
   "execution_count": null,
   "id": "c7dcf561",
   "metadata": {},
   "outputs": [],
   "source": [
    "import numpy as np\n",
    "import pandas as pd\n",
    "\n",
    "\n",
    "df = pd.read_csv('311_Service_Requests_2020.csv')\n",
    "# df.info()\n",
    "df_zip=df[df['Incident Zip']== 10023]\n",
    "top10=df_zip.groupby('Complaint Type').size().sort_values(ascending=False).head(10)\n"
   ]
  }
 ],
 "metadata": {
  "kernelspec": {
   "display_name": "Python 3",
   "language": "python",
   "name": "python3"
  },
  "language_info": {
   "codemirror_mode": {
    "name": "ipython",
    "version": 3
   },
   "file_extension": ".py",
   "mimetype": "text/x-python",
   "name": "python",
   "nbconvert_exporter": "python",
   "pygments_lexer": "ipython3",
   "version": "3.8.8"
  }
 },
 "nbformat": 4,
 "nbformat_minor": 5
}
