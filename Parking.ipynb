{
 "cells": [
  {
   "cell_type": "code",
   "execution_count": null,
   "id": "5e0f85ad",
   "metadata": {},
   "outputs": [],
   "source": [
    "import numpy as np\n",
    "import pandas as pd\n",
    "\n",
    "df = pd.read_csv('311_Service_Requests_2020.csv')\n",
    "\n",
    "df_ip = df[df['Complaint Type'] == 'Illegal Parking']\n",
    "df_ip_10023 = df_ip[df_ip['Incident Zip'] == 10023]\n",
    "df_10023 = df[df['Incident Zip'] == 10023]\n",
    "\n",
    "len_ip,len_total,len_ip_10023,len_10023 = len(df_ip),len(df),len(df_ip_10023),len(df_10023)\n",
    "frac1, frac2 = len_ip_10023/len_10023, len_ip/len_total\n",
    "higher_parking_proportion = (frac1 > frac2)"
   ]
  },
  {
   "cell_type": "code",
   "execution_count": null,
   "id": "5a2c76e9",
   "metadata": {},
   "outputs": [],
   "source": []
  }
 ],
 "metadata": {
  "kernelspec": {
   "display_name": "Python 3",
   "language": "python",
   "name": "python3"
  },
  "language_info": {
   "codemirror_mode": {
    "name": "ipython",
    "version": 3
   },
   "file_extension": ".py",
   "mimetype": "text/x-python",
   "name": "python",
   "nbconvert_exporter": "python",
   "pygments_lexer": "ipython3",
   "version": "3.8.8"
  }
 },
 "nbformat": 4,
 "nbformat_minor": 5
}
